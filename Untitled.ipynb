{
 "cells": [
  {
   "cell_type": "code",
   "execution_count": 11,
   "id": "0f6db64a",
   "metadata": {},
   "outputs": [
    {
     "name": "stdout",
     "output_type": "stream",
     "text": [
      "Twinkle, twinkle,little star \n",
      " \t How, I wonder what you are \n",
      " \t \t Up above the world so high, \n",
      " \t \t Like a diamond in the sky. \n",
      "Twinkle, twinkle,little star \n",
      " \t How, I wonder what you are\n"
     ]
    }
   ],
   "source": [
    "print('Twinkle, twinkle,little star \\n \\t How, I wonder what you are \\n \\t \\t Up above the world so high, \\n \\t \\t Like a diamond in the sky. \\nTwinkle, twinkle,little star \\n \\t How, I wonder what you are')"
   ]
  },
  {
   "cell_type": "code",
   "execution_count": 12,
   "id": "35a0ff84",
   "metadata": {},
   "outputs": [
    {
     "name": "stdout",
     "output_type": "stream",
     "text": [
      "3.8.8 (default, Apr 13 2021, 15:08:03) [MSC v.1916 64 bit (AMD64)]\n"
     ]
    }
   ],
   "source": [
    "import sys\n",
    "print(sys.version)"
   ]
  },
  {
   "cell_type": "code",
   "execution_count": 16,
   "id": "e7ad86fb",
   "metadata": {},
   "outputs": [
    {
     "name": "stdout",
     "output_type": "stream",
     "text": [
      "Current Date is:  2021-10-24 15:16:33.239075\n"
     ]
    }
   ],
   "source": [
    "import datetime\n",
    "current_date = datetime.datetime.now();\n",
    "print('Current Date is: ',current_date)"
   ]
  },
  {
   "cell_type": "code",
   "execution_count": 21,
   "id": "2f0bc807",
   "metadata": {},
   "outputs": [
    {
     "name": "stdout",
     "output_type": "stream",
     "text": [
      "Please Enter the Radius of a Circle:10\n",
      "Area of Circle is 314.2\n"
     ]
    }
   ],
   "source": [
    "pie = 3.142\n",
    "radius = float(input('Please Enter the Radius of a Circle:'))\n",
    "compute_area = pie * radius * radius\n",
    "print('Area of Circle is',compute_area)"
   ]
  },
  {
   "cell_type": "code",
   "execution_count": 25,
   "id": "3519624c",
   "metadata": {},
   "outputs": [
    {
     "name": "stdout",
     "output_type": "stream",
     "text": [
      "Enter Your First Name:Hassan\n",
      "Enter Your Last Name:Naeem\n",
      "Full Name is:  Hassan meeaN\n"
     ]
    }
   ],
   "source": [
    "first_name = input('Enter Your First Name:')\n",
    "last_name = input('Enter Your Last Name:')\n",
    "full_name = first_name+' '+last_name[::-1]\n",
    "print('Full Name is: ',full_name)"
   ]
  },
  {
   "cell_type": "code",
   "execution_count": 28,
   "id": "931fbde9",
   "metadata": {},
   "outputs": [
    {
     "name": "stdout",
     "output_type": "stream",
     "text": [
      "Enter FIrst Number:5\n",
      "Enter Second Number:5\n",
      "Addition of the input is: 10\n"
     ]
    }
   ],
   "source": [
    "user_first_input = int(input('Enter FIrst Number:'));\n",
    "user_second_input = int(input('Enter Second Number:'));\n",
    "print('Addition of the input is:',user_first_input + user_second_input)"
   ]
  },
  {
   "cell_type": "code",
   "execution_count": 29,
   "id": "5c808c0c",
   "metadata": {},
   "outputs": [
    {
     "name": "stdout",
     "output_type": "stream",
     "text": [
      "Marksheet Generator\n",
      "Please Enter The Marks In English:66\n",
      "Please Enter The Marks In Math:70\n",
      "Please Enter The Marks In Computer:80\n",
      "Please Enter The Marks In Urdu:90\n",
      "Please Enter The Marks In Islamiat:95\n",
      "Your Grade is A+ and Percentage is: 80.2\n"
     ]
    }
   ],
   "source": [
    "print('Marksheet Generator');\n",
    "english_marks = float(input('Please Enter The Marks In English:'));\n",
    "math_marks = float(input('Please Enter The Marks In Math:'));\n",
    "computer_marks = float(input('Please Enter The Marks In Computer:'));\n",
    "urder_marks = float(input('Please Enter The Marks In Urdu:'));\n",
    "islamiat_marks = float(input('Please Enter The Marks In Islamiat:'));\n",
    "total_marks = 500;\n",
    "obtained_marks = english_marks + math_marks + computer_marks + urder_marks + islamiat_marks;\n",
    "percentage = obtained_marks * 100 / total_marks;\n",
    "if percentage >= 80:\n",
    "    print('Your Grade is A+ and Percentage is:',percentage)\n",
    "elif percentage >= 70:\n",
    "    print('Your Grade is A and Percentage is:',percentage)\n",
    "elif percentage >= 60:\n",
    "     print('Your Grade is B and Percentage is:',percentage)\n",
    "elif percentage >= 50:\n",
    "     print('Your Grade is C and Percentage is:',percentage)\n",
    "elif percentage >= 40:\n",
    "     print('Your Grade is D and Percentage is:',percentage)\n",
    "else:\n",
    "     print('Your Grade is F and Percentage is:',percentage)"
   ]
  },
  {
   "cell_type": "code",
   "execution_count": 31,
   "id": "ecec3b7c",
   "metadata": {},
   "outputs": [
    {
     "name": "stdout",
     "output_type": "stream",
     "text": [
      "Enter a Number to determine whether its even or odd9\n",
      "It's a Odd Number\n"
     ]
    }
   ],
   "source": [
    "user_input = int(input('Enter a Number to determine whether its even or odd'))\n",
    "if user_input % 2 == 0:\n",
    "    print(\"It's a Even Number\")\n",
    "else:\n",
    "    print(\"It's a Odd Number\")"
   ]
  },
  {
   "cell_type": "code",
   "execution_count": 33,
   "id": "c8e56220",
   "metadata": {},
   "outputs": [
    {
     "name": "stdout",
     "output_type": "stream",
     "text": [
      "The Lenght of the Array is 4\n"
     ]
    }
   ],
   "source": [
    "supposition_array = ['BMW','Apple','Computer','Samsung']\n",
    "print('The Lenght of the Array is',len(supposition_array))"
   ]
  },
  {
   "cell_type": "code",
   "execution_count": 34,
   "id": "1cd6ac0c",
   "metadata": {},
   "outputs": [
    {
     "name": "stdout",
     "output_type": "stream",
     "text": [
      "Sum of Numbers are: 33\n"
     ]
    }
   ],
   "source": [
    "numeric_array = [4,3,2,7,8,9]\n",
    "sum = 0\n",
    "for num in numeric_array:\n",
    "    sum = sum + num\n",
    "print('Sum of Numbers are:',sum)"
   ]
  },
  {
   "cell_type": "code",
   "execution_count": 36,
   "id": "58f8c7c8",
   "metadata": {},
   "outputs": [
    {
     "name": "stdout",
     "output_type": "stream",
     "text": [
      "Largest Number is: 9\n"
     ]
    }
   ],
   "source": [
    "numeric_array = [4,3,2,7,8,9]\n",
    "larget_num = numeric_array[0]\n",
    "for num in numeric_array:\n",
    "    if num >= larget_num:\n",
    "        larget_num = num\n",
    "print('Largest Number is:',larget_num)"
   ]
  },
  {
   "cell_type": "code",
   "execution_count": null,
   "id": "fc180656",
   "metadata": {},
   "outputs": [],
   "source": [
    "a = [1, 1, 2, 3, 5, 8, 13, 21, 34, 55, 89]\n",
    "for num in a:\n",
    "    "
   ]
  }
 ],
 "metadata": {
  "kernelspec": {
   "display_name": "Python 3",
   "language": "python",
   "name": "python3"
  },
  "language_info": {
   "codemirror_mode": {
    "name": "ipython",
    "version": 3
   },
   "file_extension": ".py",
   "mimetype": "text/x-python",
   "name": "python",
   "nbconvert_exporter": "python",
   "pygments_lexer": "ipython3",
   "version": "3.8.8"
  }
 },
 "nbformat": 4,
 "nbformat_minor": 5
}
